{
 "cells": [
  {
   "cell_type": "code",
   "execution_count": 1,
   "id": "ba4ec27e-7e7a-4623-8f37-2d84bb8c710f",
   "metadata": {
    "tags": []
   },
   "outputs": [
    {
     "name": "stderr",
     "output_type": "stream",
     "text": [
      "2022-02-23 10:57:14.810288: W tensorflow/stream_executor/platform/default/dso_loader.cc:64] Could not load dynamic library 'libcudart.so.11.0'; dlerror: libcudart.so.11.0: cannot open shared object file: No such file or directory\n",
      "2022-02-23 10:57:14.810327: I tensorflow/stream_executor/cuda/cudart_stub.cc:29] Ignore above cudart dlerror if you do not have a GPU set up on your machine.\n",
      "2022-02-23 10:57:16.473383: W tensorflow/stream_executor/platform/default/dso_loader.cc:64] Could not load dynamic library 'libcuda.so.1'; dlerror: libcuda.so.1: cannot open shared object file: No such file or directory\n",
      "2022-02-23 10:57:16.473403: W tensorflow/stream_executor/cuda/cuda_driver.cc:269] failed call to cuInit: UNKNOWN ERROR (303)\n",
      "2022-02-23 10:57:16.473419: I tensorflow/stream_executor/cuda/cuda_diagnostics.cc:156] kernel driver does not appear to be running on this host (alien): /proc/driver/nvidia/version does not exist\n",
      "2022-02-23 10:57:16.473593: I tensorflow/core/platform/cpu_feature_guard.cc:151] This TensorFlow binary is optimized with oneAPI Deep Neural Network Library (oneDNN) to use the following CPU instructions in performance-critical operations:  AVX2 FMA\n",
      "To enable them in other operations, rebuild TensorFlow with the appropriate compiler flags.\n"
     ]
    }
   ],
   "source": [
    "from deepRadarModelModConv_Ka_trained import *"
   ]
  },
  {
   "cell_type": "code",
   "execution_count": 2,
   "id": "3af1f960-547b-4f92-8a9c-7be7989bcde0",
   "metadata": {},
   "outputs": [],
   "source": [
    "yp=model(x_test[:,-60:])\n",
    "         \n",
    "yp=yp.numpy()[:,0]*yp.numpy()[:,1]\n",
    "y_testp=y_test[:,0]*piaKu[ind_test]\n",
    "stats1=[]\n",
    "for intv in [[1,2],[2,4],[4,6],[6,8],[8,10],[10,20]]:\n",
    "    a=np.nonzero((y_testp-intv[0])*(y_testp-intv[1])<0)\n",
    "    rms=(((yp[a[0]]-y_testp[a[0]])**2).mean())**0.5/y_testp[a[0]].mean()\n",
    "    #print(\"%6.2f %6.2f %6.2f %6.2f\"%(intv[0],intv[1],\\\n",
    "    #                                 (-1+yp[a[0]].mean()/y_testp[a[0]].mean())*100,rms*100))\n",
    "    stats1.append([intv[0],intv[1],\\\n",
    "                                     (-1+yp[a[0]].mean()/y_testp[a[0]].mean())*100,rms*100])\n",
    "stats2=[]\n",
    "yp_2=model(x_test[:,-40:])\n",
    "yp=yp_2.numpy()[:,0]*piaKu[ind_test]\n",
    "piaP=yp_2.numpy()[:,1]\n",
    "y_testp=y_test[:,0]*piaKu[ind_test]\n",
    "for intv in [[1,2],[2,4],[4,6],[6,8],[8,10],[10,20]]:\n",
    "    a=np.nonzero((y_testp-intv[0])*(y_testp-intv[1])<0)\n",
    "    rms=(((yp[a[0]]-y_testp[a[0]])**2).mean())**0.5/y_testp[a[0]].mean()\n",
    "    #print(\"%6.2f %6.2f %6.2f %6.2f %6.2f %6.2f\"%(intv[0],intv[1],\\\n",
    "    #                                             (-1+yp[a[0]].mean()/y_testp[a[0]].mean())*100,rms*100,\\\n",
    "    #                                             piaP[a[0]].mean(),piaKu[ind_test][a].mean()))\n",
    "    stats2.append([intv[0],intv[1],(-1+yp[a[0]].mean()/y_testp[a[0]].mean())*100,rms*100,\\\n",
    "                   piaP[a[0]].mean(),piaKu[ind_test][a].mean()])\n",
    "stats1=np.array(stats1)\n",
    "stats2=np.array(stats2)"
   ]
  },
  {
   "cell_type": "code",
   "execution_count": 3,
   "id": "975dcd22-b1fc-4f21-983f-f7de0691df9c",
   "metadata": {},
   "outputs": [
    {
     "data": {
      "image/png": "[encoded data removed]",
      "text/plain": [
       "<Figure size 864x432 with 2 Axes>"
      ]
     },
     "metadata": {
      "needs_background": "light"
     },
     "output_type": "display_data"
    }
   ],
   "source": [
    "import matplotlib\n",
    "matplotlib.rcParams.update({'font.size': 12})\n",
    "plt.figure(figsize=(12,6))\n",
    "plt.subplot(121)\n",
    "plt.bar(np.arange(6)-0.225,stats1[:6,2],0.45,label='Bias')\n",
    "plt.bar(np.arange(6)+0.225,stats1[:6,3],0.45,label='NRMS')\n",
    "plt.xticks(range(6),('1.0-2.0','2.0-4.0','4.0-6.0','6.0-8.0','8.0-10.0','10.0-20.0'))\n",
    "plt.ylabel('%')\n",
    "plt.legend()\n",
    "plt.gca().yaxis.grid()\n",
    "plt.title(\"Ka-band \\nWithout SRT PIA\")\n",
    "plt.xlabel('mm/h')\n",
    "plt.ylim(-60,110)\n",
    "#plt.figure(figsize=(6,6))\n",
    "plt.subplot(122)\n",
    "plt.bar(np.arange(6)-0.225,stats2[:6,2],0.45,label='Bias')\n",
    "plt.bar(np.arange(6)+0.225,stats2[:6,3],0.45,label='NRMS')\n",
    "plt.xticks(range(6),('1.0-2.0','2.0-4.0','4.0-6.0','6.0-8.0','8.0-10.0','10.0-20.0'))\n",
    "plt.ylabel('%')\n",
    "plt.legend()\n",
    "plt.gca().yaxis.grid()\n",
    "plt.title(\"Ka-band \\nWith SRT PIA\")\n",
    "plt.ylim(-60,110)\n",
    "plt.xlabel('mm/h')\n",
    "plt.savefig(\"kaBand_polar_GPM_assessment.png\")"
   ]
  },
  {
   "cell_type": "code",
   "execution_count": null,
   "id": "abd522b1-a4b4-417d-befa-5925a376f866",
   "metadata": {},
   "outputs": [],
   "source": []
  }
 ],
 "metadata": {
  "kernelspec": {
   "display_name": "Python 3 (ipykernel)",
   "language": "python",
   "name": "python3"
  },
  "language_info": {
   "codemirror_mode": {
    "name": "ipython",
    "version": 3
   },
   "file_extension": ".py",
   "mimetype": "text/x-python",
   "name": "python",
   "nbconvert_exporter": "python",
   "pygments_lexer": "ipython3",
   "version": "3.8.12"
  }
 },
 "nbformat": 4,
 "nbformat_minor": 5
}
