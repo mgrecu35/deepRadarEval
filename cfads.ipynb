{
 "cells": [
  {
   "cell_type": "code",
   "execution_count": 1,
   "id": "b651ca17-06f3-4993-b726-f7003fb4e6e4",
   "metadata": {
    "collapsed": true,
    "jupyter": {
     "outputs_hidden": true
    },
    "tags": []
   },
   "outputs": [
    {
     "name": "stdout",
     "output_type": "stream",
     "text": [
      " Random Seeds :     85786433    85786470\n",
      "  -330181176\n",
      "           8\n",
      "imu:     1  mu:    -2.0000  mu_tab:    -2.0000\n",
      "   10.6499996    \n",
      "   18.7000008    \n",
      "   23.7999992    \n",
      "   35.5000000    \n",
      "   89.0000000    \n",
      "   165.500000    \n",
      "   183.300003    \n",
      "imu:     2  mu:    -1.0000  mu_tab:    -1.0000\n",
      "   10.6499996    \n",
      "   18.7000008    \n",
      "   23.7999992    \n",
      "   35.5000000    \n",
      "   89.0000000    \n",
      "   165.500000    \n",
      "   183.300003    \n",
      "imu:     3  mu:     0.0000  mu_tab:     0.0000\n",
      "   10.6499996    \n",
      "   18.7000008    \n",
      "   23.7999992    \n",
      "   35.5000000    \n",
      "   89.0000000    \n",
      "   165.500000    \n",
      "   183.300003    \n",
      "imu:     4  mu:     1.0000  mu_tab:     1.0000\n",
      "   10.6499996    \n",
      "   18.7000008    \n",
      "   23.7999992    \n",
      "   35.5000000    \n",
      "   89.0000000    \n",
      "   165.500000    \n",
      "   183.300003    \n",
      "imu:     5  mu:     2.0000  mu_tab:     2.0000\n",
      "   10.6499996    \n",
      "   18.7000008    \n",
      "   23.7999992    \n",
      "   35.5000000    \n",
      "   89.0000000    \n",
      "   165.500000    \n",
      "   183.300003    \n",
      "   10.0000000       19.0000000       22.0000000       37.0000000       85.0000000       165.500000       186.000000       190.000000    \n",
      "   2.82452162E-02\n"
     ]
    }
   ],
   "source": [
    "from netCDF4 import Dataset\n",
    "import matplotlib.pyplot as plt\n",
    "import matplotlib.colors as cols\n",
    "import numpy as np\n",
    "from hb_sub import *\n",
    "import glob\n",
    "\n",
    "fs=glob.glob(\"dsrt/newSubset/ku*dsrt*\")\n",
    "count=0\n",
    "count_s=0\n",
    "pia1=[]\n",
    "pia2=[]\n",
    "zKuL=[]\n",
    "zKaL=[]\n",
    "cfadZ=np.zeros((50,47),float)\n",
    "cfadZKa=np.zeros((50,47),float)\n",
    "sfcPrecipL=[]\n",
    "srtPIAL=[]\n",
    "for f in sorted(fs):\n",
    "    fh=Dataset(f)\n",
    "    sfcPrecip=fh[\"sfcPrecip\"][:]\n",
    "    drelFact=fh[\"drelFact\"][:]\n",
    "    relFact=fh[\"relFact\"][:]\n",
    "    dsrtPIA=fh[\"dsrtPIA\"][:]\n",
    "    srtPIA=fh[\"srtPIA\"][:]\n",
    "    bzd=fh[\"bzd\"][:]\n",
    "    bcf=fh[\"bcf\"][:]\n",
    "    zKu=fh[\"zKu\"][:]\n",
    "    zKa=fh[\"zKa\"][:]\n",
    "    for i,relF in enumerate(drelFact):\n",
    "        if bzd[i]+30>bcf[i] or bzd[i]>160 or bcf[i]<168:\n",
    "            continue\n",
    "        if sfcPrecip[i]<20 and ((relF==1) or (relF==2)):\n",
    "            count+=1\n",
    "            zKuL.append(zKu[i,bzd[i]+16-80:bzd[i]+30:2])\n",
    "            zKaL.append(zKa[i,bzd[i]+16-80:bzd[i]+30:2])\n",
    "            sfcPrecipL.append(sfcPrecip[i])\n",
    "            zKu1= zKuL[-1]\n",
    "            zKa1= zKaL[-1]\n",
    "            srtPIAL.append(dsrtPIA[i,0])\n",
    "            for k in range(47):\n",
    "                if zKu1[k]>10 and zKa1[k]>10:\n",
    "                    if k>1 and k<46:\n",
    "                        if zKu1[k-1]<10 or zKu1[k+1]<10:\n",
    "                            continue\n",
    "                    iz=int(zKuL[-1][k])\n",
    "                    if iz<50:\n",
    "                        cfadZ[iz,k]+=1\n",
    "                if zKa1[k]>12 and zKu1[k]>10:\n",
    "                    iz=int(zKaL[-1][k])\n",
    "                    if iz<50:\n",
    "                        cfadZKa[iz,k]+=1\n",
    "            if relFact[i]==1 or relFact[i]==2:\n",
    "                count_s+=1\n",
    "                pia1.append(dsrtPIA[i,0])                \n",
    "                pia2.append(srtPIA[i])\n"
   ]
  },
  {
   "cell_type": "code",
   "execution_count": 12,
   "id": "de068b37-e889-4784-aac5-d74e27b6457f",
   "metadata": {},
   "outputs": [
    {
     "data": {
      "image/png": "[encoded data removed]",
      "text/plain": [
       "<Figure size 576x288 with 4 Axes>"
      ]
     },
     "metadata": {
      "needs_background": "light"
     },
     "output_type": "display_data"
    }
   ],
   "source": [
    "import matplotlib\n",
    "matplotlib.rcParams.update({'font.size': 12})\n",
    "plt.figure(figsize=(8,4))\n",
    "plt.subplot(121)\n",
    "c=plt.pcolormesh(range(50),32*0.25-np.arange(47)*0.25,cfadZ.T,cmap='jet',norm=cols.LogNorm())\n",
    "plt.xlim(10,45)\n",
    "plt.xlabel(\"dBZ\")\n",
    "plt.ylabel(\"Relative height(km)\")\n",
    "plt.title(\"Ku-band\")\n",
    "cb=plt.colorbar(c)\n",
    "cb.ax.set_title(\"counts\")\n",
    "plt.subplot(122)\n",
    "c=plt.pcolormesh(range(50),32*0.25-np.arange(47)*0.25,cfadZKa.T,cmap='jet',norm=cols.LogNorm())\n",
    "plt.xlim(10,35)\n",
    "plt.xlabel(\"dBZ\")\n",
    "plt.title(\"Ka-band\")\n",
    "cb=plt.colorbar(c)\n",
    "cb.ax.set_title(\"counts\")\n",
    "plt.tight_layout()\n",
    "plt.savefig(\"cfads.png\")"
   ]
  },
  {
   "cell_type": "code",
   "execution_count": null,
   "id": "5418749f-5619-401d-9411-c25dcce51592",
   "metadata": {},
   "outputs": [],
   "source": []
  }
 ],
 "metadata": {
  "kernelspec": {
   "display_name": "Python 3 (ipykernel)",
   "language": "python",
   "name": "python3"
  },
  "language_info": {
   "codemirror_mode": {
    "name": "ipython",
    "version": 3
   },
   "file_extension": ".py",
   "mimetype": "text/x-python",
   "name": "python",
   "nbconvert_exporter": "python",
   "pygments_lexer": "ipython3",
   "version": "3.8.12"
  }
 },
 "nbformat": 4,
 "nbformat_minor": 5
}
